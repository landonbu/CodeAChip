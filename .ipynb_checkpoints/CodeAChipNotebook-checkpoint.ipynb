{
 "cells": [
  {
   "cell_type": "markdown",
   "id": "7ab73fbc",
   "metadata": {},
   "source": [
    "### This is the start of out notebook"
   ]
  },
  {
   "cell_type": "raw",
   "id": "3940d0fb-a215-4a3a-b9c2-1f5041b95f8a",
   "metadata": {},
   "source": [
    "testing testing 123"
   ]
  },
  {
   "cell_type": "code",
   "execution_count": null,
   "id": "c4c35028-fa58-4b03-81eb-7bf76d89576b",
   "metadata": {},
   "outputs": [],
   "source": []
  },
  {
   "cell_type": "code",
   "execution_count": null,
   "id": "96e69ae4-c638-4785-84d3-59106155b3d9",
   "metadata": {},
   "outputs": [],
   "source": []
  },
  {
   "cell_type": "markdown",
   "id": "0775b359-0492-4fe8-a135-4b8184cb8893",
   "metadata": {},
   "source": [
    "# header plz work"
   ]
  },
  {
   "cell_type": "markdown",
   "id": "53307e53-2add-4726-9b1f-ede93af9b304",
   "metadata": {},
   "source": [
    "how do this work whaaaa help testing here"
   ]
  },
  {
   "cell_type": "code",
   "execution_count": null,
   "id": "17833caa-4ba2-4d18-9e59-5ce8aba37df8",
   "metadata": {},
   "outputs": [],
   "source": []
  }
 ],
 "metadata": {
  "kernelspec": {
   "display_name": "Python 3 (ipykernel)",
   "language": "python",
   "name": "python3"
  },
  "language_info": {
   "codemirror_mode": {
    "name": "ipython",
    "version": 3
   },
   "file_extension": ".py",
   "mimetype": "text/x-python",
   "name": "python",
   "nbconvert_exporter": "python",
   "pygments_lexer": "ipython3",
   "version": "3.12.2"
  }
 },
 "nbformat": 4,
 "nbformat_minor": 5
}
